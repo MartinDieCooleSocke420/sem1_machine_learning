{
 "cells": [
  {
   "cell_type": "markdown",
   "metadata": {},
   "source": [
    "# Portfolio-Exam Machine Learning\n",
    "\n",
    "Gesundheitszustand anhand der Metriken bewerten die man z.B. auch mit einem Handy ausmessen kann wie bspw. schlaf, schritte am tag, hf, rr, alkoholkonsum, rauchen"
   ]
  },
  {
   "cell_type": "code",
   "execution_count": 28,
   "metadata": {},
   "outputs": [],
   "source": [
    "import pandas as pd"
   ]
  },
  {
   "cell_type": "code",
   "execution_count": 3,
   "metadata": {},
   "outputs": [],
   "source": [
    "\n",
    "# https://www.cdc.gov/brfss/annual_data/annual_2022.html Data Source\n",
    "# https://www.cdc.gov/brfss/annual_data/2020/pdf/2020-calculated-variables-version4-508.pdf\n",
    "\n",
    "df = pd.read_sas(\"LLCP2022.XPT\")"
   ]
  },
  {
   "cell_type": "code",
   "execution_count": 25,
   "metadata": {},
   "outputs": [
    {
     "data": {
      "text/html": [
       "<div>\n",
       "<style scoped>\n",
       "    .dataframe tbody tr th:only-of-type {\n",
       "        vertical-align: middle;\n",
       "    }\n",
       "\n",
       "    .dataframe tbody tr th {\n",
       "        vertical-align: top;\n",
       "    }\n",
       "\n",
       "    .dataframe thead th {\n",
       "        text-align: right;\n",
       "    }\n",
       "</style>\n",
       "<table border=\"1\" class=\"dataframe\">\n",
       "  <thead>\n",
       "    <tr style=\"text-align: right;\">\n",
       "      <th></th>\n",
       "      <th>_STATE</th>\n",
       "      <th>FMONTH</th>\n",
       "      <th>IDATE</th>\n",
       "      <th>IMONTH</th>\n",
       "      <th>IDAY</th>\n",
       "      <th>IYEAR</th>\n",
       "      <th>DISPCODE</th>\n",
       "      <th>SEQNO</th>\n",
       "      <th>_PSU</th>\n",
       "      <th>CTELENM1</th>\n",
       "      <th>...</th>\n",
       "      <th>_SMOKGRP</th>\n",
       "      <th>_LCSREC</th>\n",
       "      <th>DRNKANY6</th>\n",
       "      <th>DROCDY4_</th>\n",
       "      <th>_RFBING6</th>\n",
       "      <th>_DRNKWK2</th>\n",
       "      <th>_RFDRHV8</th>\n",
       "      <th>_FLSHOT7</th>\n",
       "      <th>_PNEUMO3</th>\n",
       "      <th>_AIDTST4</th>\n",
       "    </tr>\n",
       "  </thead>\n",
       "  <tbody>\n",
       "    <tr>\n",
       "      <th>0</th>\n",
       "      <td>1.0</td>\n",
       "      <td>1.0</td>\n",
       "      <td>b'02032022'</td>\n",
       "      <td>b'02'</td>\n",
       "      <td>b'03'</td>\n",
       "      <td>b'2022'</td>\n",
       "      <td>1100.0</td>\n",
       "      <td>b'2022000001'</td>\n",
       "      <td>2.022000e+09</td>\n",
       "      <td>1.0</td>\n",
       "      <td>...</td>\n",
       "      <td>4.0</td>\n",
       "      <td>NaN</td>\n",
       "      <td>2.0</td>\n",
       "      <td>5.397605e-79</td>\n",
       "      <td>1.0</td>\n",
       "      <td>5.397605e-79</td>\n",
       "      <td>1.0</td>\n",
       "      <td>1.0</td>\n",
       "      <td>2.0</td>\n",
       "      <td>2.0</td>\n",
       "    </tr>\n",
       "    <tr>\n",
       "      <th>1</th>\n",
       "      <td>1.0</td>\n",
       "      <td>1.0</td>\n",
       "      <td>b'02042022'</td>\n",
       "      <td>b'02'</td>\n",
       "      <td>b'04'</td>\n",
       "      <td>b'2022'</td>\n",
       "      <td>1100.0</td>\n",
       "      <td>b'2022000002'</td>\n",
       "      <td>2.022000e+09</td>\n",
       "      <td>1.0</td>\n",
       "      <td>...</td>\n",
       "      <td>4.0</td>\n",
       "      <td>NaN</td>\n",
       "      <td>2.0</td>\n",
       "      <td>5.397605e-79</td>\n",
       "      <td>1.0</td>\n",
       "      <td>5.397605e-79</td>\n",
       "      <td>1.0</td>\n",
       "      <td>2.0</td>\n",
       "      <td>2.0</td>\n",
       "      <td>2.0</td>\n",
       "    </tr>\n",
       "    <tr>\n",
       "      <th>2</th>\n",
       "      <td>1.0</td>\n",
       "      <td>1.0</td>\n",
       "      <td>b'02022022'</td>\n",
       "      <td>b'02'</td>\n",
       "      <td>b'02'</td>\n",
       "      <td>b'2022'</td>\n",
       "      <td>1100.0</td>\n",
       "      <td>b'2022000003'</td>\n",
       "      <td>2.022000e+09</td>\n",
       "      <td>1.0</td>\n",
       "      <td>...</td>\n",
       "      <td>4.0</td>\n",
       "      <td>NaN</td>\n",
       "      <td>2.0</td>\n",
       "      <td>5.397605e-79</td>\n",
       "      <td>1.0</td>\n",
       "      <td>5.397605e-79</td>\n",
       "      <td>1.0</td>\n",
       "      <td>NaN</td>\n",
       "      <td>NaN</td>\n",
       "      <td>2.0</td>\n",
       "    </tr>\n",
       "    <tr>\n",
       "      <th>3</th>\n",
       "      <td>1.0</td>\n",
       "      <td>1.0</td>\n",
       "      <td>b'02032022'</td>\n",
       "      <td>b'02'</td>\n",
       "      <td>b'03'</td>\n",
       "      <td>b'2022'</td>\n",
       "      <td>1100.0</td>\n",
       "      <td>b'2022000004'</td>\n",
       "      <td>2.022000e+09</td>\n",
       "      <td>1.0</td>\n",
       "      <td>...</td>\n",
       "      <td>3.0</td>\n",
       "      <td>2.0</td>\n",
       "      <td>2.0</td>\n",
       "      <td>5.397605e-79</td>\n",
       "      <td>1.0</td>\n",
       "      <td>5.397605e-79</td>\n",
       "      <td>1.0</td>\n",
       "      <td>9.0</td>\n",
       "      <td>9.0</td>\n",
       "      <td>2.0</td>\n",
       "    </tr>\n",
       "    <tr>\n",
       "      <th>4</th>\n",
       "      <td>1.0</td>\n",
       "      <td>1.0</td>\n",
       "      <td>b'02022022'</td>\n",
       "      <td>b'02'</td>\n",
       "      <td>b'02'</td>\n",
       "      <td>b'2022'</td>\n",
       "      <td>1100.0</td>\n",
       "      <td>b'2022000005'</td>\n",
       "      <td>2.022000e+09</td>\n",
       "      <td>1.0</td>\n",
       "      <td>...</td>\n",
       "      <td>4.0</td>\n",
       "      <td>NaN</td>\n",
       "      <td>1.0</td>\n",
       "      <td>1.000000e+01</td>\n",
       "      <td>1.0</td>\n",
       "      <td>1.400000e+02</td>\n",
       "      <td>1.0</td>\n",
       "      <td>NaN</td>\n",
       "      <td>NaN</td>\n",
       "      <td>2.0</td>\n",
       "    </tr>\n",
       "  </tbody>\n",
       "</table>\n",
       "<p>5 rows × 328 columns</p>\n",
       "</div>"
      ],
      "text/plain": [
       "   _STATE  FMONTH        IDATE IMONTH   IDAY    IYEAR  DISPCODE  \\\n",
       "0     1.0     1.0  b'02032022'  b'02'  b'03'  b'2022'    1100.0   \n",
       "1     1.0     1.0  b'02042022'  b'02'  b'04'  b'2022'    1100.0   \n",
       "2     1.0     1.0  b'02022022'  b'02'  b'02'  b'2022'    1100.0   \n",
       "3     1.0     1.0  b'02032022'  b'02'  b'03'  b'2022'    1100.0   \n",
       "4     1.0     1.0  b'02022022'  b'02'  b'02'  b'2022'    1100.0   \n",
       "\n",
       "           SEQNO          _PSU  CTELENM1  ...  _SMOKGRP  _LCSREC  DRNKANY6  \\\n",
       "0  b'2022000001'  2.022000e+09       1.0  ...       4.0      NaN       2.0   \n",
       "1  b'2022000002'  2.022000e+09       1.0  ...       4.0      NaN       2.0   \n",
       "2  b'2022000003'  2.022000e+09       1.0  ...       4.0      NaN       2.0   \n",
       "3  b'2022000004'  2.022000e+09       1.0  ...       3.0      2.0       2.0   \n",
       "4  b'2022000005'  2.022000e+09       1.0  ...       4.0      NaN       1.0   \n",
       "\n",
       "       DROCDY4_  _RFBING6      _DRNKWK2  _RFDRHV8  _FLSHOT7  _PNEUMO3  \\\n",
       "0  5.397605e-79       1.0  5.397605e-79       1.0       1.0       2.0   \n",
       "1  5.397605e-79       1.0  5.397605e-79       1.0       2.0       2.0   \n",
       "2  5.397605e-79       1.0  5.397605e-79       1.0       NaN       NaN   \n",
       "3  5.397605e-79       1.0  5.397605e-79       1.0       9.0       9.0   \n",
       "4  1.000000e+01       1.0  1.400000e+02       1.0       NaN       NaN   \n",
       "\n",
       "   _AIDTST4  \n",
       "0       2.0  \n",
       "1       2.0  \n",
       "2       2.0  \n",
       "3       2.0  \n",
       "4       2.0  \n",
       "\n",
       "[5 rows x 328 columns]"
      ]
     },
     "execution_count": 25,
     "metadata": {},
     "output_type": "execute_result"
    }
   ],
   "source": [
    "df.head()"
   ]
  },
  {
   "cell_type": "code",
   "execution_count": 5,
   "metadata": {},
   "outputs": [
    {
     "data": {
      "text/plain": [
       "1168026496"
      ]
     },
     "execution_count": 5,
     "metadata": {},
     "output_type": "execute_result"
    }
   ],
   "source": [
    "df.memory_usage(index=True).sum()"
   ]
  },
  {
   "cell_type": "code",
   "execution_count": 6,
   "metadata": {},
   "outputs": [
    {
     "data": {
      "text/plain": [
       "<Axes: ylabel='Frequency'>"
      ]
     },
     "execution_count": 6,
     "metadata": {},
     "output_type": "execute_result"
    },
    {
     "data": {
      "image/png": "[encoded data removed]",
      "text/plain": [
       "<Figure size 640x480 with 1 Axes>"
      ]
     },
     "metadata": {},
     "output_type": "display_data"
    }
   ],
   "source": [
    "df[\"GENHLTH\"].plot.hist()"
   ]
  },
  {
   "cell_type": "code",
   "execution_count": 7,
   "metadata": {},
   "outputs": [
    {
     "data": {
      "text/plain": [
       "<Axes: ylabel='Frequency'>"
      ]
     },
     "execution_count": 7,
     "metadata": {},
     "output_type": "execute_result"
    },
    {
     "data": {
      "image/png": "[encoded data removed]",
      "text/plain": [
       "<Figure size 640x480 with 1 Axes>"
      ]
     },
     "metadata": {},
     "output_type": "display_data"
    }
   ],
   "source": [
    "df[\"HTM4\"].plot.hist()"
   ]
  },
  {
   "cell_type": "code",
   "execution_count": 8,
   "metadata": {},
   "outputs": [
    {
     "data": {
      "text/plain": [
       "<Axes: ylabel='Frequency'>"
      ]
     },
     "execution_count": 8,
     "metadata": {},
     "output_type": "execute_result"
    },
    {
     "data": {
      "image/png": "[encoded data removed]",
      "text/plain": [
       "<Figure size 640x480 with 1 Axes>"
      ]
     },
     "metadata": {},
     "output_type": "display_data"
    }
   ],
   "source": [
    "df[\"WTKG3\"].plot.hist()"
   ]
  },
  {
   "cell_type": "code",
   "execution_count": 9,
   "metadata": {},
   "outputs": [
    {
     "data": {
      "text/plain": [
       "<Axes: ylabel='Frequency'>"
      ]
     },
     "execution_count": 9,
     "metadata": {},
     "output_type": "execute_result"
    },
    {
     "data": {
      "image/png": "[encoded data removed]",
      "text/plain": [
       "<Figure size 640x480 with 1 Axes>"
      ]
     },
     "metadata": {},
     "output_type": "display_data"
    }
   ],
   "source": [
    "df[\"_BMI5\"].plot.hist()"
   ]
  },
  {
   "cell_type": "code",
   "execution_count": 10,
   "metadata": {},
   "outputs": [
    {
     "data": {
      "text/plain": [
       "<Axes: ylabel='Frequency'>"
      ]
     },
     "execution_count": 10,
     "metadata": {},
     "output_type": "execute_result"
    },
    {
     "data": {
      "image/png": "[encoded data removed]",
      "text/plain": [
       "<Figure size 640x480 with 1 Axes>"
      ]
     },
     "metadata": {},
     "output_type": "display_data"
    }
   ],
   "source": [
    "df[\"_EDUCAG\"].plot.hist()"
   ]
  },
  {
   "cell_type": "code",
   "execution_count": 22,
   "metadata": {},
   "outputs": [
    {
     "data": {
      "text/plain": [
       "<Axes: ylabel='Frequency'>"
      ]
     },
     "execution_count": 22,
     "metadata": {},
     "output_type": "execute_result"
    },
    {
     "data": {
      "image/png": "[encoded data removed]",
      "text/plain": [
       "<Figure size 640x480 with 1 Axes>"
      ]
     },
     "metadata": {},
     "output_type": "display_data"
    }
   ],
   "source": [
    "df[\"_SMOKER3\"].plot.hist()"
   ]
  },
  {
   "cell_type": "code",
   "execution_count": 27,
   "metadata": {},
   "outputs": [
    {
     "data": {
      "text/plain": [
       "<Axes: ylabel='Frequency'>"
      ]
     },
     "execution_count": 27,
     "metadata": {},
     "output_type": "execute_result"
    },
    {
     "data": {
      "image/png": "[encoded data removed]",
      "text/plain": [
       "<Figure size 640x480 with 1 Axes>"
      ]
     },
     "metadata": {},
     "output_type": "display_data"
    }
   ],
   "source": [
    "df[\"_AIDTST4\"].plot.hist()"
   ]
  },
  {
   "cell_type": "markdown",
   "metadata": {},
   "source": [
    "# Testing with cross validation"
   ]
  },
  {
   "cell_type": "code",
   "execution_count": 33,
   "metadata": {},
   "outputs": [],
   "source": [
    "import numpy as np\n",
    "# !pip install scikit-learn\n",
    "from sklearn import linear_model, tree, ensemble\n",
    "from sklearn.model_selection import KFold, StratifiedKFold, cross_val_score"
   ]
  },
  {
   "cell_type": "code",
   "execution_count": 39,
   "metadata": {},
   "outputs": [],
   "source": [
    "from sklearn import datasets\n",
    "data = datasets.load_digits()\n",
    "\n",
    "# transfrm the data into a dataframe\n",
    "df = pd.DataFrame(data.data, columns=data.feature_names)"
   ]
  },
  {
   "cell_type": "code",
   "execution_count": 45,
   "metadata": {},
   "outputs": [
    {
     "name": "stdout",
     "output_type": "stream",
     "text": [
      "Fold:1, Train set: 1198, Test set: 599\n",
      "Fold:2, Train set: 1198, Test set: 599\n",
      "Fold:3, Train set: 1198, Test set: 599\n"
     ]
    }
   ],
   "source": [
    "# LETS SPLIT THE DATA INTO 3 FOLDS :)!\n",
    "\n",
    "kf = KFold(n_splits=3, shuffle=True, random_state=69)\n",
    "\n",
    "cnt = 1\n",
    "for train_index, test_index in kf.split(df):\n",
    "    print(f\"Fold:{cnt}, Train set: {len(train_index)}, Test set: {len(test_index)}\")\n",
    "    cnt += 1"
   ]
  },
  {
   "cell_type": "code",
   "execution_count": 53,
   "metadata": {},
   "outputs": [
    {
     "name": "stdout",
     "output_type": "stream",
     "text": [
      "Root Mean Squared Error: [-3.07011686 -3.15358932 -3.15191987]\n",
      "Average RMSE: -3.1252086811352253\n"
     ]
    }
   ],
   "source": [
    "score = cross_val_score(tree.DecisionTreeRegressor(random_state=69), df, data.target, cv=kf, scoring=\"neg_mean_squared_error\")\n",
    "print(f\"Root Mean Squared Error: {score}\")\n",
    "print(f\"Average RMSE: {score.mean()}\")"
   ]
  },
  {
   "cell_type": "code",
   "execution_count": 59,
   "metadata": {},
   "outputs": [],
   "source": [
    "max_depth = np.arange(1, 11)"
   ]
  },
  {
   "cell_type": "code",
   "execution_count": 60,
   "metadata": {},
   "outputs": [
    {
     "name": "stdout",
     "output_type": "stream",
     "text": [
      "Max Depth: 1, Average RMSE: -7.270570636045252\n",
      "Max Depth: 2, Average RMSE: -6.281110355086928\n",
      "Max Depth: 3, Average RMSE: -4.801281611119597\n",
      "Max Depth: 4, Average RMSE: -4.043570855718557\n",
      "Max Depth: 5, Average RMSE: -3.559347453156444\n",
      "Max Depth: 6, Average RMSE: -3.3116924421434653\n",
      "Max Depth: 7, Average RMSE: -3.085843088301255\n",
      "Max Depth: 8, Average RMSE: -3.148491060981365\n",
      "Max Depth: 9, Average RMSE: -3.0924997013329345\n",
      "Max Depth: 10, Average RMSE: -3.147400481683246\n"
     ]
    }
   ],
   "source": [
    "for val in max_depth:\n",
    "    score = cross_val_score(tree.DecisionTreeRegressor(random_state=69, max_depth=val), df, data.target, cv=kf, scoring=\"neg_mean_squared_error\")\n",
    "    print(f\"Max Depth: {val}, Average RMSE: {score.mean()}\")"
   ]
  },
  {
   "cell_type": "markdown",
   "metadata": {},
   "source": [
    "# nested cross validation \n",
    "now we do it but with inner and outer circles\n",
    "so we do it arround itself not only once but twice"
   ]
  },
  {
   "cell_type": "code",
   "execution_count": 61,
   "metadata": {},
   "outputs": [],
   "source": [
    "from sklearn.model_selection import GridSearchCV, KFold, cross_val_score\n",
    "from sklearn.svm import SVC"
   ]
  },
  {
   "cell_type": "code",
   "execution_count": 71,
   "metadata": {},
   "outputs": [],
   "source": [
    "# num of random trails\n",
    "NUM_TRIALS = 3\n",
    "NUM_SPLITS = 3\n",
    "\n",
    "svm = SVC(kernel=\"rbf\")\n",
    "\n",
    "non_nested_scores = np.zeros(NUM_TRIALS)\n",
    "nested_scores = np.zeros(NUM_TRIALS)\n",
    "p_grid = {\"C\": [1e-1, 1e0, 1e1, 1e2], \"gamma\": np.logspace(-2, 2, 5)}"
   ]
  },
  {
   "cell_type": "markdown",
   "metadata": {},
   "source": [
    "https://scikit-learn.org/stable/modules/generated/sklearn.model_selection.KFold.html#sklearn.model_selection.KFold\n",
    "\n",
    "See also:\n",
    "StratifiedKFold\n",
    "\n",
    "    Takes class information into account to avoid building folds with imbalanced class distributions (for binary or multiclass classification tasks).\n",
    "GroupKFold\n",
    "\n",
    "    K-fold iterator variant with non-overlapping groups.\n",
    "RepeatedKFold\n",
    "\n",
    "    Repeats K-Fold n times.\n",
    "\n"
   ]
  },
  {
   "cell_type": "code",
   "execution_count": 77,
   "metadata": {},
   "outputs": [
    {
     "name": "stdout",
     "output_type": "stream",
     "text": [
      "Running Outer CV in iteration 0\n",
      "Running Outer CV in iteration 1\n",
      "Running Outer CV in iteration 2\n"
     ]
    }
   ],
   "source": [
    "for i in range(NUM_TRIALS):\n",
    "    print(f\"Running Outer CV in iteration {i}\")\n",
    "\n",
    "    # pipe = get_pipe(estimator)\n",
    "\n",
    "    inner_cv = KFold(NUM_SPLITS, shuffle=True, random_state=i) # into repeatedstratifiedkfold\n",
    "    outer_cv = KFold(NUM_SPLITS, shuffle=True, random_state=i) #normal stratified kfold since in for loop\n",
    "\n",
    "    clf = GridSearchCV(estimator=svm, cv=outer_cv, param_grid=p_grid) # meta classifier\n",
    "\n",
    "    # problem without the pipeline -> scaling inside the pipeline and not just on the whole dataset\n",
    "    #cross_validate executes the outer cross validation -> so also the inner cross validation\n",
    "    \n",
    "\n",
    "\n",
    "    clf.fit(df, data.target)\n",
    "    non_nested_scores[i] = clf.best_score_\n",
    "\n",
    "    clf = GridSearchCV(estimator=svm, param_grid=p_grid, cv=inner_cv)\n",
    "    nested_scores = cross_val_score(clf, df, data.target, cv=outer_cv)\n",
    "    nested_scores[i] = nested_scores.mean()\n",
    "\n",
    "score_difference = non_nested_scores - nested_scores"
   ]
  },
  {
   "cell_type": "markdown",
   "metadata": {},
   "source": [
    "what is the param_grid?\n",
    "was is \"scoring\"?"
   ]
  },
  {
   "cell_type": "code",
   "execution_count": 73,
   "metadata": {},
   "outputs": [
    {
     "data": {
      "text/plain": [
       "array([0.75459098, 0.77740679, 0.74902615])"
      ]
     },
     "execution_count": 73,
     "metadata": {},
     "output_type": "execute_result"
    }
   ],
   "source": [
    "non_nested_scores"
   ]
  },
  {
   "cell_type": "code",
   "execution_count": 74,
   "metadata": {},
   "outputs": [
    {
     "data": {
      "text/plain": [
       "array([0.75292154, 0.79465776, 0.74902615])"
      ]
     },
     "execution_count": 74,
     "metadata": {},
     "output_type": "execute_result"
    }
   ],
   "source": [
    "nested_scores"
   ]
  },
  {
   "cell_type": "code",
   "execution_count": 75,
   "metadata": {},
   "outputs": [
    {
     "data": {
      "text/plain": [
       "array([ 0.00166945, -0.01725097,  0.        ])"
      ]
     },
     "execution_count": 75,
     "metadata": {},
     "output_type": "execute_result"
    }
   ],
   "source": [
    "score_difference"
   ]
  },
  {
   "cell_type": "code",
   "execution_count": 76,
   "metadata": {},
   "outputs": [
    {
     "name": "stdout",
     "output_type": "stream",
     "text": [
      "Average difference of -0.005194 with std. dev. of 0.008553.\n"
     ]
    }
   ],
   "source": [
    "print(\n",
    "    \"Average difference of {:6f} with std. dev. of {:6f}.\".format(\n",
    "        score_difference.mean(), score_difference.std()\n",
    "    )\n",
    ")"
   ]
  },
  {
   "cell_type": "code",
   "execution_count": null,
   "metadata": {},
   "outputs": [],
   "source": []
  },
  {
   "cell_type": "markdown",
   "metadata": {},
   "source": [
    "sklearn Pipeline to combinde stuff\n",
    "\n",
    "gridsearchCV -> grid search in cv\n",
    "\n",
    "\n",
    "KFold -> different kind of cross validations\n",
    "\n",
    "\n",
    "programm it yourself or use kfold and parameterise it in the way you want\n",
    "\n",
    "\n",
    "Setting global Config -- no magic numbers??\n",
    "-> preventing magic numbers from happening not to use numbers out of context\n",
    "NUM_TRIALS\n",
    "NUM_INNER REPEATS\n",
    "NUM INNER SPLITS\n",
    "NUM OUTER SPLITS\n",
    "\n",
    "what is the grid\n",
    "- represent all combinations of hypercombinators we want to test\n",
    "- the underscores are there for the pipelines __\n",
    "- different hyperparameters for different methods\n",
    "*grid* -> list of every combination possible \n",
    "\n",
    "in scalers we have fit/transorm or fit-transform\n",
    "\n",
    "fit -> scales the data\n",
    "\n",
    "helperfunction to create pipelines always in the same way -> get_pipeline returns pipeline with different steps\n",
    "\n",
    "\n",
    "crossvalidation -> slipt into test/data _> every role gets to play test/train once \n",
    "repCV -> doing cross validation with different folds, repeating the whole cross validation\n",
    "\n",
    "[1,2,3,4,5,6]\n",
    "split in 3:\n",
    "[1,2],[3,4],[4,5]\n",
    "[1,6],[3,6],[2,4]\n",
    "\n",
    "\n",
    "bacc = mean over the 9 outer layers\n",
    "\n",
    "plotting bacc over c -> shows how stable a algorithm is, we do not see how influencial the hyperparameters are"
   ]
  }
 ],
 "metadata": {
  "kernelspec": {
   "display_name": "Python 3",
   "language": "python",
   "name": "python3"
  },
  "language_info": {
   "codemirror_mode": {
    "name": "ipython",
    "version": 3
   },
   "file_extension": ".py",
   "mimetype": "text/x-python",
   "name": "python",
   "nbconvert_exporter": "python",
   "pygments_lexer": "ipython3",
   "version": "3.10.12"
  }
 },
 "nbformat": 4,
 "nbformat_minor": 2
}
